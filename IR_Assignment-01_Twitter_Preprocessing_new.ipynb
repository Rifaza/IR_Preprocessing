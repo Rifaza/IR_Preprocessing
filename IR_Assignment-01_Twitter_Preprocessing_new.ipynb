{
 "cells": [
  {
   "cell_type": "code",
   "execution_count": 13,
   "metadata": {},
   "outputs": [
    {
     "name": "stderr",
     "output_type": "stream",
     "text": [
      "[nltk_data] Downloading package punkt to /home/rifaza/nltk_data...\n",
      "[nltk_data]   Package punkt is already up-to-date!\n",
      "[nltk_data] Downloading package stopwords to /home/rifaza/nltk_data...\n",
      "[nltk_data]   Package stopwords is already up-to-date!\n",
      "[nltk_data] Downloading package wordnet to /home/rifaza/nltk_data...\n",
      "[nltk_data]   Package wordnet is already up-to-date!\n"
     ]
    }
   ],
   "source": [
    "import re, string, unicodedata\n",
    "import nltk\n",
    "import contractions\n",
    "import inflect\n",
    "import nltk\n",
    "nltk.download('punkt')\n",
    "nltk.download('stopwords')\n",
    "nltk.download('wordnet')\n",
    "from bs4 import BeautifulSoup\n",
    "from nltk import word_tokenize, sent_tokenize\n",
    "from nltk.corpus import stopwords\n",
    "from nltk.stem import LancasterStemmer, WordNetLemmatizer\n",
    "from textblob import Word"
   ]
  },
  {
   "cell_type": "code",
   "execution_count": 2,
   "metadata": {},
   "outputs": [],
   "source": [
    "\n",
    "twitter_data=\"\"\"Reminds me of Liberal Immigration Fraudster Monsef avoiding deportation from Canada. #cdnpoli #LPC #CPCLDR��_ https://t.co/ZOZOSe1CqQ\n",
    "#immigration #integration #canada https://t.co/M5cKGyvV8F\n",
    "We want controlled immigration that contributes positively to the UK economy. Same as Australia &amp; Canada. https://t.co/99mYliuOes\n",
    "Is the new Manitoba immigration fee a head tax? https://t.co/LsG7C3vLe9\n",
    "Canada immigration profit influence modernistic delhi yet abhinav: XKofy https://t.co/becgusY2i6\n",
    "Canada Immigration Minister to ���Substantially Increase  Immigration Numbers https://t.co/nEFw30MRaa https://t.co/cyI867PZRV\n",
    "M��me les #USA=pays d'immigration par excellence CONTR��LE RIGOUREUSEMENT l'immigration et acc��s �� la #GreenCARD!��_ https://t.co/IHpVhW2BaG\n",
    "@Shawhelp what changes should be made to Canada's immigration laws due to the influx of immigration and violence?\n",
    "L��immigration irr��guli��re au Canada d��cortiqu��e en 5 questions https://t.co/f4utO5A7ZF\n",
    "L'immigration irr��guli��re au Canada d��cortiqu��e en 5 questions - https://t.co/UiBsEZOqas https://t.co/j77dEvjoiX https://t.co/XXDeIG7Dbu\n",
    "Will Media ask the Liberals if they actually have a solid plan for Canada _��_�_?? From my view -- immigration out of C��_ https://t.co/YAgwmZ8ECp\n",
    "Dan Murray of��Immigration Watch Canada is xenophobic racist fear-mongering liar #racism #canada #cdnpoli #hatecrime��_ https://t.co/kwZ3csvYxM\n",
    "Le Canada lance une vaste campagne d'immigration pour faire face �� son besoin de main d'��uvre https://t.co/kXdfMGTZzN\n",
    "L��#immigration irr��guli��re au #Canada d��cortiqu��e en 5��questions https://t.co/s3hu1OKKIG\n",
    "@Canadidly I've read the Immigration laws of Canada much stricter than the US\n",
    "Canada Immigration Website Traffic Surges And Crashes In Wake Of Trump #fasttraffic,#sitetraffic,#website,#traffic https://t.co/zRlJ26jnkC\n",
    "Mr Know-all of Canada Immigration https://t.co/wTQK4QDiKI\n",
    "Move to Canada @LadyMadonna___ Oh, immigration rules, you can't... https://t.co/5LIEVHO7A4\n",
    "#OnThisDay Annette Toft becomes Canada's 2 millionth immigrant since 1945. Do you know your family's immigration st��_ https://t.co/UvRuw8eR1b\n",
    ".@TheEconomist profiles Canada's open immigration policies &amp; how they contribute to our economic success:��_ https://t.co/4K84EE8Y63\n",
    "Hundreds may lose Canadian citizenship, resident status because of one corrupt immigration consultant https://t.co/x2IfO0EXI2\n",
    "Immigration for canada without india: an compassionate handle: deyFy\n",
    "\"#Jamaican #immigrants #Canada\n",
    "\n",
    "https://t.co/vcmfYGadR5\n",
    "\n",
    "#statistics #immigration\"\n",
    "Mexican visa lift expected to cost Canada $262M over a decade https://t.co/9i72fRhtij\n",
    "Are people still moving to #Canada ??? Oh that's right, they have real immigration laws and it's��_ https://t.co/0C5OBfmxLG\n",
    "Here are more details on the Richmond, B.C. Immigration Consultant Sunny Wang who was sentenced to 7 years in... https://t.co/YXH5W53srO\n",
    "I added a video to a @YouTube playlist https://t.co/CnEyWN40x3 Funny Talking of Haryanavi Jat with Canada Immigration Girl Agent\n",
    "Mexicans Can Now Travel Visa-Free To Canada https://t.co/Ec3XHORO2s https://t.co/RQRr5nebcG\n",
    "L��immigration irr��guli��re au Canada d��cortiqu��e en 5��questions https://t.co/DkpuKyWmaK\n",
    "@SweetnessShawnB Hes the POS that ramped up immigration for Canada, among other globalist policies.\n",
    "Canada lifted visa requirements to Mexico as of Dec 1, 2016. Thoughts? #visa #immigration\n",
    "@HuffingtonPost people Keep praising Canada and Canada has way stricter immigration laws then us they willl boot your liberal American ass\"\"\"\n"
   ]
  },
  {
   "cell_type": "code",
   "execution_count": 4,
   "metadata": {},
   "outputs": [],
   "source": [
    "\n",
    "\n",
    "def remove_between_square_brackets(text):\n",
    "    return re.sub('\\[[^]]*\\]', '', text)\n",
    "\n",
    "def denoise_text(text):\n",
    "    text = remove_between_square_brackets(text)\n",
    "    return text\n"
   ]
  },
  {
   "cell_type": "code",
   "execution_count": 5,
   "metadata": {},
   "outputs": [
    {
     "name": "stdout",
     "output_type": "stream",
     "text": [
      "Reminds me of Liberal Immigration Fraudster Monsef avoiding deportation from Canada. #cdnpoli #LPC #CPCLDR��_ https://t.co/ZOZOSe1CqQ\n",
      "#immigration #integration #canada https://t.co/M5cKGyvV8F\n",
      "We want controlled immigration that contributes positively to the UK economy. Same as Australia &amp; Canada. https://t.co/99mYliuOes\n",
      "Is the new Manitoba immigration fee a head tax? https://t.co/LsG7C3vLe9\n",
      "Canada immigration profit influence modernistic delhi yet abhinav: XKofy https://t.co/becgusY2i6\n",
      "Canada Immigration Minister to ���Substantially Increase  Immigration Numbers https://t.co/nEFw30MRaa https://t.co/cyI867PZRV\n",
      "M��me les #USA=pays d'immigration par excellence CONTR��LE RIGOUREUSEMENT l'immigration et acc��s �� la #GreenCARD!��_ https://t.co/IHpVhW2BaG\n",
      "@Shawhelp what changes should be made to Canada's immigration laws due to the influx of immigration and violence?\n",
      "L��immigration irr��guli��re au Canada d��cortiqu��e en 5 questions https://t.co/f4utO5A7ZF\n",
      "L'immigration irr��guli��re au Canada d��cortiqu��e en 5 questions - https://t.co/UiBsEZOqas https://t.co/j77dEvjoiX https://t.co/XXDeIG7Dbu\n",
      "Will Media ask the Liberals if they actually have a solid plan for Canada _��_�_?? From my view -- immigration out of C��_ https://t.co/YAgwmZ8ECp\n",
      "Dan Murray of��Immigration Watch Canada is xenophobic racist fear-mongering liar #racism #canada #cdnpoli #hatecrime��_ https://t.co/kwZ3csvYxM\n",
      "Le Canada lance une vaste campagne d'immigration pour faire face �� son besoin de main d'��uvre https://t.co/kXdfMGTZzN\n",
      "L��#immigration irr��guli��re au #Canada d��cortiqu��e en 5��questions https://t.co/s3hu1OKKIG\n",
      "@Canadidly I've read the Immigration laws of Canada much stricter than the US\n",
      "Canada Immigration Website Traffic Surges And Crashes In Wake Of Trump #fasttraffic,#sitetraffic,#website,#traffic https://t.co/zRlJ26jnkC\n",
      "Mr Know-all of Canada Immigration https://t.co/wTQK4QDiKI\n",
      "Move to Canada @LadyMadonna___ Oh, immigration rules, you can't... https://t.co/5LIEVHO7A4\n",
      "#OnThisDay Annette Toft becomes Canada's 2 millionth immigrant since 1945. Do you know your family's immigration st��_ https://t.co/UvRuw8eR1b\n",
      ".@TheEconomist profiles Canada's open immigration policies &amp; how they contribute to our economic success:��_ https://t.co/4K84EE8Y63\n",
      "Hundreds may lose Canadian citizenship, resident status because of one corrupt immigration consultant https://t.co/x2IfO0EXI2\n",
      "Immigration for canada without india: an compassionate handle: deyFy\n",
      "\"#Jamaican #immigrants #Canada\n",
      "\n",
      "https://t.co/vcmfYGadR5\n",
      "\n",
      "#statistics #immigration\"\n",
      "Mexican visa lift expected to cost Canada $262M over a decade https://t.co/9i72fRhtij\n",
      "Are people still moving to #Canada ??? Oh that's right, they have real immigration laws and it's��_ https://t.co/0C5OBfmxLG\n",
      "Here are more details on the Richmond, B.C. Immigration Consultant Sunny Wang who was sentenced to 7 years in... https://t.co/YXH5W53srO\n",
      "I added a video to a @YouTube playlist https://t.co/CnEyWN40x3 Funny Talking of Haryanavi Jat with Canada Immigration Girl Agent\n",
      "Mexicans Can Now Travel Visa-Free To Canada https://t.co/Ec3XHORO2s https://t.co/RQRr5nebcG\n",
      "L��immigration irr��guli��re au Canada d��cortiqu��e en 5��questions https://t.co/DkpuKyWmaK\n",
      "@SweetnessShawnB Hes the POS that ramped up immigration for Canada, among other globalist policies.\n",
      "Canada lifted visa requirements to Mexico as of Dec 1, 2016. Thoughts? #visa #immigration\n",
      "@HuffingtonPost people Keep praising Canada and Canada has way stricter immigration laws then us they willl boot your liberal American ass\n"
     ]
    }
   ],
   "source": [
    "twitter_data = denoise_text(twitter_data)\n",
    "print(twitter_data)"
   ]
  },
  {
   "cell_type": "code",
   "execution_count": 6,
   "metadata": {},
   "outputs": [],
   "source": [
    "def replace_contractions(text):\n",
    "    \"\"\"Replace contractions in string of text\"\"\"\n",
    "    return contractions.fix(text)\n",
    "\n"
   ]
  },
  {
   "cell_type": "code",
   "execution_count": 7,
   "metadata": {},
   "outputs": [
    {
     "name": "stdout",
     "output_type": "stream",
     "text": [
      "Reminds me of Liberal Immigration Fraudster Monsef avoiding deportation from Canada. #cdnpoli #LPC #CPCLDR��_ https://t.co/ZOZOSe1CqQ\n",
      "#immigration #integration #canada https://t.co/M5cKGyvV8F\n",
      "We want controlled immigration that contributes positively to the UK economy. Same as Australia &amp; Canada. https://t.co/99mYliuOes\n",
      "Is the new Manitoba immigration fee a head tax? https://t.co/LsG7C3vLe9\n",
      "Canada immigration profit influence modernistic delhi yet abhinav: XKofy https://t.co/becgusY2i6\n",
      "Canada Immigration Minister to ���Substantially Increase  Immigration Numbers https://t.co/nEFw30MRaa https://t.co/cyI867PZRV\n",
      "M��me les #USA=pays d'immigration par excellence CONTR��LE RIGOUREUSEMENT l'immigration et acc��s �� la #GreenCARD!��_ https://t.co/IHpVhW2BaG\n",
      "@Shawhelp what changes should be made to Canada's immigration laws due to the influx of immigration and violence?\n",
      "L��immigration irr��guli��re au Canada d��cortiqu��e en 5 questions https://t.co/f4utO5A7ZF\n",
      "L'immigration irr��guli��re au Canada d��cortiqu��e en 5 questions - https://t.co/UiBsEZOqas https://t.co/j77dEvjoiX https://t.co/XXDeIG7Dbu\n",
      "Will Media ask the Liberals if they actually have a solid plan for Canada _��_�_?? From my view -- immigration out of C��_ https://t.co/YAgwmZ8ECp\n",
      "Dan Murray of��Immigration Watch Canada is xenophobic racist fear-mongering liar #racism #canada #cdnpoli #hatecrime��_ https://t.co/kwZ3csvYxM\n",
      "Le Canada lance une vaste campagne d'immigration pour faire face �� son besoin de main d'��uvre https://t.co/kXdfMGTZzN\n",
      "L��#immigration irr��guli��re au #Canada d��cortiqu��e en 5��questions https://t.co/s3hu1OKKIG\n",
      "@Canadidly I have read the Immigration laws of Canada much stricter than the US\n",
      "Canada Immigration Website Traffic Surges And Crashes In Wake Of Trump #fasttraffic,#sitetraffic,#website,#traffic https://t.co/zRlJ26jnkC\n",
      "Mr Know-all of Canada Immigration https://t.co/wTQK4QDiKI\n",
      "Move to Canada @LadyMadonna___ Oh, immigration rules, you cannot... https://t.co/5LIEVHO7A4\n",
      "#OnThisDay Annette Toft becomes Canada's 2 millionth immigrant since 1945. Do you know your family's immigration st��_ https://t.co/UvRuw8eR1b\n",
      ".@TheEconomist profiles Canada's open immigration policies &amp; how they contribute to our economic success:��_ https://t.co/4K84EE8Y63\n",
      "Hundreds may lose Canadian citizenship, resident status because of one corrupt immigration consultant https://t.co/x2IfO0EXI2\n",
      "Immigration for canada without india: an compassionate handle: deyFy\n",
      "\"#Jamaican #immigrants #Canada\n",
      "\n",
      "https://t.co/vcmfYGadR5\n",
      "\n",
      "#statistics #immigration\"\n",
      "Mexican visa lift expected to cost Canada $262M over a decade https://t.co/9i72fRhtij\n",
      "Are people still moving to #Canada ??? Oh that is right, they have real immigration laws and it is��_ https://t.co/0C5OBfmxLG\n",
      "Here are more details on the Richmond, B.C. Immigration Consultant Sunny Wang who was sentenced to 7 years in... https://t.co/YXH5W53srO\n",
      "I added a video to a @YouTube playlist https://t.co/CnEyWN40x3 Funny Talking of Haryanavi Jat with Canada Immigration Girl Agent\n",
      "Mexicans Can Now Travel Visa-Free To Canada https://t.co/Ec3XHORO2s https://t.co/RQRr5nebcG\n",
      "L��immigration irr��guli��re au Canada d��cortiqu��e en 5��questions https://t.co/DkpuKyWmaK\n",
      "@SweetnessShawnB Hes the POS that ramped up immigration for Canada, among other globalist policies.\n",
      "Canada lifted visa requirements to Mexico as of Dec 1, 2016. Thoughts? #visa #immigration\n",
      "@HuffingtonPost people Keep praising Canada and Canada has way stricter immigration laws then us they willl boot your liberal American ass\n"
     ]
    }
   ],
   "source": [
    "twitter_text = replace_contractions(twitter_data)\n",
    "print(twitter_text)"
   ]
  },
  {
   "cell_type": "code",
   "execution_count": 8,
   "metadata": {},
   "outputs": [
    {
     "name": "stdout",
     "output_type": "stream",
     "text": [
      "['Reminds', 'me', 'of', 'Liberal', 'Immigration', 'Fraudster', 'Monsef', 'avoiding', 'deportation', 'from', 'Canada', '.', '#', 'cdnpoli', '#', 'LPC', '#', 'CPCLDR��_', 'https', ':', '//t.co/ZOZOSe1CqQ', '#', 'immigration', '#', 'integration', '#', 'canada', 'https', ':', '//t.co/M5cKGyvV8F', 'We', 'want', 'controlled', 'immigration', 'that', 'contributes', 'positively', 'to', 'the', 'UK', 'economy', '.', 'Same', 'as', 'Australia', '&', 'amp', ';', 'Canada', '.', 'https', ':', '//t.co/99mYliuOes', 'Is', 'the', 'new', 'Manitoba', 'immigration', 'fee', 'a', 'head', 'tax', '?', 'https', ':', '//t.co/LsG7C3vLe9', 'Canada', 'immigration', 'profit', 'influence', 'modernistic', 'delhi', 'yet', 'abhinav', ':', 'XKofy', 'https', ':', '//t.co/becgusY2i6', 'Canada', 'Immigration', 'Minister', 'to', '���Substantially', 'Increase', 'Immigration', 'Numbers', 'https', ':', '//t.co/nEFw30MRaa', 'https', ':', '//t.co/cyI867PZRV', 'M��me', 'les', '#', 'USA=pays', \"d'immigration\", 'par', 'excellence', 'CONTR��LE', 'RIGOUREUSEMENT', \"l'immigration\", 'et', 'acc��s', '��', 'la', '#', 'GreenCARD', '!', '��_', 'https', ':', '//t.co/IHpVhW2BaG', '@', 'Shawhelp', 'what', 'changes', 'should', 'be', 'made', 'to', 'Canada', \"'s\", 'immigration', 'laws', 'due', 'to', 'the', 'influx', 'of', 'immigration', 'and', 'violence', '?', 'L��immigration', 'irr��guli��re', 'au', 'Canada', 'd��cortiqu��e', 'en', '5', 'questions', 'https', ':', '//t.co/f4utO5A7ZF', \"L'immigration\", 'irr��guli��re', 'au', 'Canada', 'd��cortiqu��e', 'en', '5', 'questions', '-', 'https', ':', '//t.co/UiBsEZOqas', 'https', ':', '//t.co/j77dEvjoiX', 'https', ':', '//t.co/XXDeIG7Dbu', 'Will', 'Media', 'ask', 'the', 'Liberals', 'if', 'they', 'actually', 'have', 'a', 'solid', 'plan', 'for', 'Canada', '_��_�_', '?', '?', 'From', 'my', 'view', '--', 'immigration', 'out', 'of', 'C��_', 'https', ':', '//t.co/YAgwmZ8ECp', 'Dan', 'Murray', 'of��Immigration', 'Watch', 'Canada', 'is', 'xenophobic', 'racist', 'fear-mongering', 'liar', '#', 'racism', '#', 'canada', '#', 'cdnpoli', '#', 'hatecrime��_', 'https', ':', '//t.co/kwZ3csvYxM', 'Le', 'Canada', 'lance', 'une', 'vaste', 'campagne', \"d'immigration\", 'pour', 'faire', 'face', '��', 'son', 'besoin', 'de', 'main', \"d'��uvre\", 'https', ':', '//t.co/kXdfMGTZzN', 'L��', '#', 'immigration', 'irr��guli��re', 'au', '#', 'Canada', 'd��cortiqu��e', 'en', '5��questions', 'https', ':', '//t.co/s3hu1OKKIG', '@', 'Canadidly', 'I', 'have', 'read', 'the', 'Immigration', 'laws', 'of', 'Canada', 'much', 'stricter', 'than', 'the', 'US', 'Canada', 'Immigration', 'Website', 'Traffic', 'Surges', 'And', 'Crashes', 'In', 'Wake', 'Of', 'Trump', '#', 'fasttraffic', ',', '#', 'sitetraffic', ',', '#', 'website', ',', '#', 'traffic', 'https', ':', '//t.co/zRlJ26jnkC', 'Mr', 'Know-all', 'of', 'Canada', 'Immigration', 'https', ':', '//t.co/wTQK4QDiKI', 'Move', 'to', 'Canada', '@', 'LadyMadonna___', 'Oh', ',', 'immigration', 'rules', ',', 'you', 'can', 'not', '...', 'https', ':', '//t.co/5LIEVHO7A4', '#', 'OnThisDay', 'Annette', 'Toft', 'becomes', 'Canada', \"'s\", '2', 'millionth', 'immigrant', 'since', '1945', '.', 'Do', 'you', 'know', 'your', 'family', \"'s\", 'immigration', 'st��_', 'https', ':', '//t.co/UvRuw8eR1b', '.', '@', 'TheEconomist', 'profiles', 'Canada', \"'s\", 'open', 'immigration', 'policies', '&', 'amp', ';', 'how', 'they', 'contribute', 'to', 'our', 'economic', 'success', ':', '��_', 'https', ':', '//t.co/4K84EE8Y63', 'Hundreds', 'may', 'lose', 'Canadian', 'citizenship', ',', 'resident', 'status', 'because', 'of', 'one', 'corrupt', 'immigration', 'consultant', 'https', ':', '//t.co/x2IfO0EXI2', 'Immigration', 'for', 'canada', 'without', 'india', ':', 'an', 'compassionate', 'handle', ':', 'deyFy', \"''\", '#', 'Jamaican', '#', 'immigrants', '#', 'Canada', 'https', ':', '//t.co/vcmfYGadR5', '#', 'statistics', '#', 'immigration', \"''\", 'Mexican', 'visa', 'lift', 'expected', 'to', 'cost', 'Canada', '$', '262M', 'over', 'a', 'decade', 'https', ':', '//t.co/9i72fRhtij', 'Are', 'people', 'still', 'moving', 'to', '#', 'Canada', '?', '?', '?', 'Oh', 'that', 'is', 'right', ',', 'they', 'have', 'real', 'immigration', 'laws', 'and', 'it', 'is��_', 'https', ':', '//t.co/0C5OBfmxLG', 'Here', 'are', 'more', 'details', 'on', 'the', 'Richmond', ',', 'B.C', '.', 'Immigration', 'Consultant', 'Sunny', 'Wang', 'who', 'was', 'sentenced', 'to', '7', 'years', 'in', '...', 'https', ':', '//t.co/YXH5W53srO', 'I', 'added', 'a', 'video', 'to', 'a', '@', 'YouTube', 'playlist', 'https', ':', '//t.co/CnEyWN40x3', 'Funny', 'Talking', 'of', 'Haryanavi', 'Jat', 'with', 'Canada', 'Immigration', 'Girl', 'Agent', 'Mexicans', 'Can', 'Now', 'Travel', 'Visa-Free', 'To', 'Canada', 'https', ':', '//t.co/Ec3XHORO2s', 'https', ':', '//t.co/RQRr5nebcG', 'L��immigration', 'irr��guli��re', 'au', 'Canada', 'd��cortiqu��e', 'en', '5��questions', 'https', ':', '//t.co/DkpuKyWmaK', '@', 'SweetnessShawnB', 'Hes', 'the', 'POS', 'that', 'ramped', 'up', 'immigration', 'for', 'Canada', ',', 'among', 'other', 'globalist', 'policies', '.', 'Canada', 'lifted', 'visa', 'requirements', 'to', 'Mexico', 'as', 'of', 'Dec', '1', ',', '2016', '.', 'Thoughts', '?', '#', 'visa', '#', 'immigration', '@', 'HuffingtonPost', 'people', 'Keep', 'praising', 'Canada', 'and', 'Canada', 'has', 'way', 'stricter', 'immigration', 'laws', 'then', 'us', 'they', 'willl', 'boot', 'your', 'liberal', 'American', 'ass']\n"
     ]
    }
   ],
   "source": [
    "tokenised_twitter = nltk.word_tokenize(twitter_text)\n",
    "print(tokenised_twitter)"
   ]
  },
  {
   "cell_type": "code",
   "execution_count": 9,
   "metadata": {},
   "outputs": [],
   "source": [
    "\n",
    "def remove_non_ascii(words):\n",
    "    \"\"\"Remove non-ASCII characters from list of tokenized words\"\"\"\n",
    "    new_words = []\n",
    "    for word in words:\n",
    "        new_word = unicodedata.normalize('NFKD', word).encode('ascii', 'ignore').decode('utf-8', 'ignore')\n",
    "        new_words.append(new_word)\n",
    "    return new_words\n",
    "\n",
    "def to_lowercase(words):\n",
    "    \"\"\"Convert all characters to lowercase from list of tokenized words\"\"\"\n",
    "    new_words = []\n",
    "    for word in words:\n",
    "        new_word = word.lower()\n",
    "        new_words.append(new_word)\n",
    "    return new_words\n",
    "\n",
    "def remove_punctuation(words):\n",
    "    \"\"\"Remove punctuation from list of tokenized words\"\"\"\n",
    "    new_words = []\n",
    "    for word in words:\n",
    "        new_word = re.sub(r'[^\\w\\s]', '', word)\n",
    "        if new_word != '':\n",
    "            new_words.append(new_word)\n",
    "    return new_words\n",
    "\n",
    "def replace_numbers(words):\n",
    "    \"\"\"Replace all interger occurrences in list of tokenized words with textual representation\"\"\"\n",
    "    p = inflect.engine()\n",
    "    new_words = []\n",
    "    for word in words:\n",
    "        if word.isdigit():\n",
    "            new_word = p.number_to_words(word)\n",
    "            new_words.append(new_word)\n",
    "        else:\n",
    "            new_words.append(word)\n",
    "    return new_words\n",
    "\n",
    "def remove_stopwords(words):\n",
    "    \"\"\"Remove stop words from list of tokenized words\"\"\"\n",
    "    new_words = []\n",
    "    for word in words:\n",
    "        if word not in stopwords.words('english'):\n",
    "            new_words.append(word)\n",
    "    return new_words\n",
    "\n",
    "def stem_words(words):\n",
    "    \"\"\"Stem words in list of tokenized words\"\"\"\n",
    "    stemmer = LancasterStemmer()\n",
    "    stems = []\n",
    "    for word in words:\n",
    "        stem = stemmer.stem(word)\n",
    "        stems.append(stem)\n",
    "    return stems\n",
    "\n",
    "def lemmatize_verbs(words):\n",
    "    \"\"\"Lemmatize verbs in list of tokenized words\"\"\"\n",
    "    lemmatizer = WordNetLemmatizer()\n",
    "    lemmas = []\n",
    "    for word in words:\n",
    "        lemma = lemmatizer.lemmatize(word, pos='v')\n",
    "        lemmas.append(lemma)\n",
    "    return lemmas\n",
    "\n",
    "def normalize(words):\n",
    "    words = remove_non_ascii(words)\n",
    "    words = to_lowercase(words)\n",
    "    words = remove_punctuation(words)\n",
    "    words = replace_numbers(words)\n",
    "    words = remove_stopwords(words)\n",
    "    return words\n",
    "\n"
   ]
  },
  {
   "cell_type": "code",
   "execution_count": 10,
   "metadata": {},
   "outputs": [
    {
     "name": "stdout",
     "output_type": "stream",
     "text": [
      "['reminds', 'liberal', 'immigration', 'fraudster', 'monsef', 'avoiding', 'deportation', 'canada', 'cdnpoli', 'lpc', 'cpcldr_', 'https', 'tcozozose1cqq', 'immigration', 'integration', 'canada', 'https', 'tcom5ckgyvv8f', 'want', 'controlled', 'immigration', 'contributes', 'positively', 'uk', 'economy', 'australia', 'amp', 'canada', 'https', 'tco99myliuoes', 'new', 'manitoba', 'immigration', 'fee', 'head', 'tax', 'https', 'tcolsg7c3vle9', 'canada', 'immigration', 'profit', 'influence', 'modernistic', 'delhi', 'yet', 'abhinav', 'xkofy', 'https', 'tcobecgusy2i6', 'canada', 'immigration', 'minister', 'substantially', 'increase', 'immigration', 'numbers', 'https', 'tconefw30mraa', 'https', 'tcocyi867pzrv', 'mme', 'les', 'usapays', 'dimmigration', 'par', 'excellence', 'contrle', 'rigoureusement', 'limmigration', 'et', 'accs', 'la', 'greencard', '_', 'https', 'tcoihpvhw2bag', 'shawhelp', 'changes', 'made', 'canada', 'immigration', 'laws', 'due', 'influx', 'immigration', 'violence', 'limmigration', 'irrgulire', 'au', 'canada', 'dcortique', 'en', 'five', 'questions', 'https', 'tcof4uto5a7zf', 'limmigration', 'irrgulire', 'au', 'canada', 'dcortique', 'en', 'five', 'questions', 'https', 'tcouibsezoqas', 'https', 'tcoj77devjoix', 'https', 'tcoxxdeig7dbu', 'media', 'ask', 'liberals', 'actually', 'solid', 'plan', 'canada', '___', 'view', 'immigration', 'c_', 'https', 'tcoyagwmz8ecp', 'dan', 'murray', 'ofimmigration', 'watch', 'canada', 'xenophobic', 'racist', 'fearmongering', 'liar', 'racism', 'canada', 'cdnpoli', 'hatecrime_', 'https', 'tcokwz3csvyxm', 'le', 'canada', 'lance', 'une', 'vaste', 'campagne', 'dimmigration', 'pour', 'faire', 'face', 'son', 'besoin', 'de', 'main', 'duvre', 'https', 'tcokxdfmgtzzn', 'l', 'immigration', 'irrgulire', 'au', 'canada', 'dcortique', 'en', '5questions', 'https', 'tcos3hu1okkig', 'canadidly', 'read', 'immigration', 'laws', 'canada', 'much', 'stricter', 'us', 'canada', 'immigration', 'website', 'traffic', 'surges', 'crashes', 'wake', 'trump', 'fasttraffic', 'sitetraffic', 'website', 'traffic', 'https', 'tcozrlj26jnkc', 'mr', 'knowall', 'canada', 'immigration', 'https', 'tcowtqk4qdiki', 'move', 'canada', 'ladymadonna___', 'oh', 'immigration', 'rules', 'https', 'tco5lievho7a4', 'onthisday', 'annette', 'toft', 'becomes', 'canada', 'two', 'millionth', 'immigrant', 'since', 'one thousand, nine hundred and forty-five', 'know', 'family', 'immigration', 'st_', 'https', 'tcouvruw8er1b', 'theeconomist', 'profiles', 'canada', 'open', 'immigration', 'policies', 'amp', 'contribute', 'economic', 'success', '_', 'https', 'tco4k84ee8y63', 'hundreds', 'may', 'lose', 'canadian', 'citizenship', 'resident', 'status', 'one', 'corrupt', 'immigration', 'consultant', 'https', 'tcox2ifo0exi2', 'immigration', 'canada', 'without', 'india', 'compassionate', 'handle', 'deyfy', 'jamaican', 'immigrants', 'canada', 'https', 'tcovcmfygadr5', 'statistics', 'immigration', 'mexican', 'visa', 'lift', 'expected', 'cost', 'canada', '262m', 'decade', 'https', 'tco9i72frhtij', 'people', 'still', 'moving', 'canada', 'oh', 'right', 'real', 'immigration', 'laws', 'is_', 'https', 'tco0c5obfmxlg', 'details', 'richmond', 'bc', 'immigration', 'consultant', 'sunny', 'wang', 'sentenced', 'seven', 'years', 'https', 'tcoyxh5w53sro', 'added', 'video', 'youtube', 'playlist', 'https', 'tcocneywn40x3', 'funny', 'talking', 'haryanavi', 'jat', 'canada', 'immigration', 'girl', 'agent', 'mexicans', 'travel', 'visafree', 'canada', 'https', 'tcoec3xhoro2s', 'https', 'tcorqrr5nebcg', 'limmigration', 'irrgulire', 'au', 'canada', 'dcortique', 'en', '5questions', 'https', 'tcodkpukywmak', 'sweetnessshawnb', 'hes', 'pos', 'ramped', 'immigration', 'canada', 'among', 'globalist', 'policies', 'canada', 'lifted', 'visa', 'requirements', 'mexico', 'dec', 'one', 'two thousand and sixteen', 'thoughts', 'visa', 'immigration', 'huffingtonpost', 'people', 'keep', 'praising', 'canada', 'canada', 'way', 'stricter', 'immigration', 'laws', 'us', 'willl', 'boot', 'liberal', 'american', 'ass']\n"
     ]
    }
   ],
   "source": [
    "words_twitter = normalize(tokenised_twitter)\n",
    "print(words_twitter)"
   ]
  },
  {
   "cell_type": "code",
   "execution_count": 12,
   "metadata": {},
   "outputs": [
    {
     "name": "stdout",
     "output_type": "stream",
     "text": [
      "Twitter - Stemmed:\n",
      " ['remind', 'lib', 'immigr', 'fraudst', 'monsef', 'avoid', 'deport', 'canad', 'cdnpoli', 'lpc', 'cpcldr_', 'https', 'tcozozose1cqq', 'immigr', 'integr', 'canad', 'https', 'tcom5ckgyvv8f', 'want', 'control', 'immigr', 'contribut', 'posit', 'uk', 'econom', 'austral', 'amp', 'canad', 'https', 'tco99myliuoes', 'new', 'manitob', 'immigr', 'fee', 'head', 'tax', 'https', 'tcolsg7c3vle9', 'canad', 'immigr', 'profit', 'influ', 'modern', 'delh', 'yet', 'abhinav', 'xkofy', 'https', 'tcobecgusy2i6', 'canad', 'immigr', 'min', 'subst', 'increas', 'immigr', 'numb', 'https', 'tconefw30mraa', 'https', 'tcocyi867pzrv', 'mme', 'les', 'usapay', 'dimmigr', 'par', 'excel', 'contrl', 'rigoureus', 'limmigr', 'et', 'acc', 'la', 'greencard', '_', 'https', 'tcoihpvhw2bag', 'shawhelp', 'chang', 'mad', 'canad', 'immigr', 'law', 'due', 'influx', 'immigr', 'viol', 'limmigr', 'irrgulir', 'au', 'canad', 'dcort', 'en', 'fiv', 'quest', 'https', 'tcof4uto5a7zf', 'limmigr', 'irrgulir', 'au', 'canad', 'dcort', 'en', 'fiv', 'quest', 'https', 'tcouibsezoqa', 'https', 'tcoj77devjoix', 'https', 'tcoxxdeig7dbu', 'med', 'ask', 'lib', 'act', 'solid', 'plan', 'canad', '___', 'view', 'immigr', 'c_', 'https', 'tcoyagwmz8ecp', 'dan', 'murray', 'ofimmigr', 'watch', 'canad', 'xenophob', 'rac', 'fearmong', 'liar', 'rac', 'canad', 'cdnpoli', 'hatecrime_', 'https', 'tcokwz3csvyxm', 'le', 'canad', 'lant', 'un', 'vast', 'campagn', 'dimmigr', 'pour', 'fair', 'fac', 'son', 'besoin', 'de', 'main', 'duvr', 'https', 'tcokxdfmgtzzn', 'l', 'immigr', 'irrgulir', 'au', 'canad', 'dcort', 'en', '5questions', 'https', 'tcos3hu1okkig', 'canadid', 'read', 'immigr', 'law', 'canad', 'much', 'stricter', 'us', 'canad', 'immigr', 'websit', 'traff', 'surg', 'crash', 'wak', 'trump', 'fasttraff', 'sitetraff', 'websit', 'traff', 'https', 'tcozrlj26jnkc', 'mr', 'knowal', 'canad', 'immigr', 'https', 'tcowtqk4qdiki', 'mov', 'canad', 'ladymadonna___', 'oh', 'immigr', 'rul', 'https', 'tco5lievho7a4', 'onthisday', 'annet', 'toft', 'becom', 'canad', 'two', 'million', 'immigr', 'sint', 'one thousand, nine hundred and forty-fiv', 'know', 'famy', 'immigr', 'st_', 'https', 'tcouvruw8er1b', 'theeconom', 'profil', 'canad', 'op', 'immigr', 'policy', 'amp', 'contribut', 'econom', 'success', '_', 'https', 'tco4k84ee8y63', 'hundr', 'may', 'los', 'canad', 'cit', 'resid', 'stat', 'on', 'corrupt', 'immigr', 'consult', 'https', 'tcox2ifo0exi2', 'immigr', 'canad', 'without', 'ind', 'compass', 'handl', 'deyfy', 'jama', 'immigr', 'canad', 'https', 'tcovcmfygadr5', 'stat', 'immigr', 'mex', 'vis', 'lift', 'expect', 'cost', 'canad', '262m', 'decad', 'https', 'tco9i72frhtij', 'peopl', 'stil', 'mov', 'canad', 'oh', 'right', 'real', 'immigr', 'law', 'is_', 'https', 'tco0c5obfmxlg', 'detail', 'richmond', 'bc', 'immigr', 'consult', 'sunny', 'wang', 'sent', 'sev', 'year', 'https', 'tcoyxh5w53sro', 'ad', 'video', 'youtub', 'playl', 'https', 'tcocneywn40x3', 'funny', 'talk', 'haryanav', 'jat', 'canad', 'immigr', 'girl', 'ag', 'mex', 'travel', 'visafr', 'canad', 'https', 'tcoec3xhoro2s', 'https', 'tcorqrr5nebcg', 'limmigr', 'irrgulir', 'au', 'canad', 'dcort', 'en', '5questions', 'https', 'tcodkpukywmak', 'sweetnessshawnb', 'hes', 'pos', 'ramp', 'immigr', 'canad', 'among', 'glob', 'policy', 'canad', 'lift', 'vis', 'requir', 'mexico', 'dec', 'on', 'two thousand and sixteen', 'thought', 'vis', 'immigr', 'huffingtonpost', 'peopl', 'keep', 'pra', 'canad', 'canad', 'way', 'stricter', 'immigr', 'law', 'us', 'will', 'boot', 'lib', 'am', 'ass']\n",
      "\n",
      " Twitter - Lemmatized:\n",
      " ['remind', 'liberal', 'immigration', 'fraudster', 'monsef', 'avoid', 'deportation', 'canada', 'cdnpoli', 'lpc', 'cpcldr_', 'https', 'tcozozose1cqq', 'immigration', 'integration', 'canada', 'https', 'tcom5ckgyvv8f', 'want', 'control', 'immigration', 'contribute', 'positively', 'uk', 'economy', 'australia', 'amp', 'canada', 'https', 'tco99myliuoes', 'new', 'manitoba', 'immigration', 'fee', 'head', 'tax', 'https', 'tcolsg7c3vle9', 'canada', 'immigration', 'profit', 'influence', 'modernistic', 'delhi', 'yet', 'abhinav', 'xkofy', 'https', 'tcobecgusy2i6', 'canada', 'immigration', 'minister', 'substantially', 'increase', 'immigration', 'number', 'https', 'tconefw30mraa', 'https', 'tcocyi867pzrv', 'mme', 'les', 'usapays', 'dimmigration', 'par', 'excellence', 'contrle', 'rigoureusement', 'limmigration', 'et', 'accs', 'la', 'greencard', '_', 'https', 'tcoihpvhw2bag', 'shawhelp', 'change', 'make', 'canada', 'immigration', 'laws', 'due', 'influx', 'immigration', 'violence', 'limmigration', 'irrgulire', 'au', 'canada', 'dcortique', 'en', 'five', 'question', 'https', 'tcof4uto5a7zf', 'limmigration', 'irrgulire', 'au', 'canada', 'dcortique', 'en', 'five', 'question', 'https', 'tcouibsezoqas', 'https', 'tcoj77devjoix', 'https', 'tcoxxdeig7dbu', 'media', 'ask', 'liberals', 'actually', 'solid', 'plan', 'canada', '___', 'view', 'immigration', 'c_', 'https', 'tcoyagwmz8ecp', 'dan', 'murray', 'ofimmigration', 'watch', 'canada', 'xenophobic', 'racist', 'fearmongering', 'liar', 'racism', 'canada', 'cdnpoli', 'hatecrime_', 'https', 'tcokwz3csvyxm', 'le', 'canada', 'lance', 'une', 'vaste', 'campagne', 'dimmigration', 'pour', 'faire', 'face', 'son', 'besoin', 'de', 'main', 'duvre', 'https', 'tcokxdfmgtzzn', 'l', 'immigration', 'irrgulire', 'au', 'canada', 'dcortique', 'en', '5questions', 'https', 'tcos3hu1okkig', 'canadidly', 'read', 'immigration', 'laws', 'canada', 'much', 'stricter', 'us', 'canada', 'immigration', 'website', 'traffic', 'surge', 'crash', 'wake', 'trump', 'fasttraffic', 'sitetraffic', 'website', 'traffic', 'https', 'tcozrlj26jnkc', 'mr', 'knowall', 'canada', 'immigration', 'https', 'tcowtqk4qdiki', 'move', 'canada', 'ladymadonna___', 'oh', 'immigration', 'rule', 'https', 'tco5lievho7a4', 'onthisday', 'annette', 'toft', 'become', 'canada', 'two', 'millionth', 'immigrant', 'since', 'one thousand, nine hundred and forty-five', 'know', 'family', 'immigration', 'st_', 'https', 'tcouvruw8er1b', 'theeconomist', 'profile', 'canada', 'open', 'immigration', 'policies', 'amp', 'contribute', 'economic', 'success', '_', 'https', 'tco4k84ee8y63', 'hundreds', 'may', 'lose', 'canadian', 'citizenship', 'resident', 'status', 'one', 'corrupt', 'immigration', 'consultant', 'https', 'tcox2ifo0exi2', 'immigration', 'canada', 'without', 'india', 'compassionate', 'handle', 'deyfy', 'jamaican', 'immigrants', 'canada', 'https', 'tcovcmfygadr5', 'statistics', 'immigration', 'mexican', 'visa', 'lift', 'expect', 'cost', 'canada', '262m', 'decade', 'https', 'tco9i72frhtij', 'people', 'still', 'move', 'canada', 'oh', 'right', 'real', 'immigration', 'laws', 'is_', 'https', 'tco0c5obfmxlg', 'detail', 'richmond', 'bc', 'immigration', 'consultant', 'sunny', 'wang', 'sentence', 'seven', 'years', 'https', 'tcoyxh5w53sro', 'add', 'video', 'youtube', 'playlist', 'https', 'tcocneywn40x3', 'funny', 'talk', 'haryanavi', 'jat', 'canada', 'immigration', 'girl', 'agent', 'mexicans', 'travel', 'visafree', 'canada', 'https', 'tcoec3xhoro2s', 'https', 'tcorqrr5nebcg', 'limmigration', 'irrgulire', 'au', 'canada', 'dcortique', 'en', '5questions', 'https', 'tcodkpukywmak', 'sweetnessshawnb', 'hes', 'pos', 'ramp', 'immigration', 'canada', 'among', 'globalist', 'policies', 'canada', 'lift', 'visa', 'requirements', 'mexico', 'dec', 'one', 'two thousand and sixteen', 'thoughts', 'visa', 'immigration', 'huffingtonpost', 'people', 'keep', 'praise', 'canada', 'canada', 'way', 'stricter', 'immigration', 'laws', 'us', 'willl', 'boot', 'liberal', 'american', 'ass']\n"
     ]
    }
   ],
   "source": [
    "def stem_and_lemmatize(words):\n",
    "    stems = stem_words(words)\n",
    "    lemmas = lemmatize_verbs(words)\n",
    "    return stems, lemmas\n",
    "\n",
    "stems, lemmas = stem_and_lemmatize(words_twitter)\n",
    "print('Twitter - Stemmed:\\n', stems)\n",
    "print('\\n Twitter - Lemmatized:\\n', lemmas)"
   ]
  },
  {
   "cell_type": "code",
   "execution_count": null,
   "metadata": {},
   "outputs": [],
   "source": [
    "from textblob import TextBlob\n",
    "\n",
    "\n",
    "def correct_sentence_spelling(sentence):\n",
    "    \n",
    "    sentence = TextBlob(sentence)\n",
    "    \n",
    "    result = sentence.correct()\n",
    "    \n",
    "    print(result)"
   ]
  },
  {
   "cell_type": "code",
   "execution_count": null,
   "metadata": {},
   "outputs": [],
   "source": [
    "def correct_word_spelling(word):\n",
    "    \n",
    "    word = Word(word)\n",
    "    \n",
    "    result = word.correct()\n",
    "    \n",
    "    print(result)"
   ]
  },
  {
   "cell_type": "code",
   "execution_count": null,
   "metadata": {},
   "outputs": [],
   "source": [
    "for x in words_twitter:\n",
    "    correct_word_spelling(x)\n"
   ]
  }
 ],
 "metadata": {
  "kernelspec": {
   "display_name": "Python 3",
   "language": "python",
   "name": "python3"
  },
  "language_info": {
   "codemirror_mode": {
    "name": "ipython",
    "version": 3
   },
   "file_extension": ".py",
   "mimetype": "text/x-python",
   "name": "python",
   "nbconvert_exporter": "python",
   "pygments_lexer": "ipython3",
   "version": "3.7.4"
  }
 },
 "nbformat": 4,
 "nbformat_minor": 2
}
